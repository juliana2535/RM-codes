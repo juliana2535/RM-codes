{
 "cells": [
  {
   "cell_type": "code",
   "execution_count": 1,
   "metadata": {},
   "outputs": [],
   "source": [
    "#Import of useful librairies\n",
    "import cv2\n",
    "import math\n",
    "import numpy as np\n",
    "from skimage import measure\n",
    "import statistics as stat\n",
    "import time"
   ]
  },
  {
   "cell_type": "code",
   "execution_count": 2,
   "metadata": {},
   "outputs": [],
   "source": [
    "handoverIn=\"./Outputs/handpics/cows\"\n",
    "handover='./Outputs/handouts/cows'\n",
    "it=200"
   ]
  },
  {
   "cell_type": "code",
   "execution_count": 3,
   "metadata": {},
   "outputs": [],
   "source": [
    "N=2"
   ]
  },
  {
   "cell_type": "code",
   "execution_count": 4,
   "metadata": {},
   "outputs": [],
   "source": [
    "frame_height=1080\n",
    "frame_width=1920"
   ]
  },
  {
   "cell_type": "code",
   "execution_count": 5,
   "metadata": {},
   "outputs": [],
   "source": [
    "#import particles their weigths and the anchor at handover time\n",
    "particles=np.load(handoverIn+\"_particles_data2_\"+str(it)+\".npy\")\n",
    "weights=np.load(handoverIn+'_weights_data2_'+str(it)+'.npy')\n",
    "est=np.load(handoverIn+\"_estimation_data2_\"+str(it)+\".npy\")\n",
    "\n",
    "n_particles=len(particles)"
   ]
  },
  {
   "cell_type": "code",
   "execution_count": 6,
   "metadata": {},
   "outputs": [],
   "source": [
    "def draw_bb(frame,BB,x,y):\n",
    "        \"\"\"This function draw BB and center of object\"\"\"\n",
    "        cv2.circle(frame,(int(x),int(y)),5,[0,255,0],3)\n",
    "        cv2.rectangle(frame, (BB[0],BB[1]), (BB[0]+BB[2],BB[1]+BB[3]), (0,0,255), 2)\n",
    "        return frame"
   ]
  },
  {
   "cell_type": "code",
   "execution_count": 7,
   "metadata": {},
   "outputs": [],
   "source": [
    "def return_bb_coordinates(anchor,height,width):\n",
    "    \"\"\"This function return the BB coordinates. The y coordinates of the top\n",
    "    left corner and the right bottom corner are first returned, while the x coordinates \n",
    "    come last.\"\"\"\n",
    "\n",
    "    dy1=int(anchor[1]-height/2)\n",
    "    if(dy1<0):dy1=0\n",
    "\n",
    "    dy2=int(anchor[1]+height/2)\n",
    "    if (dy2>frame_height):dy2=frame_height\n",
    "\n",
    "    dx1=int(anchor[0]-width/2)\n",
    "    if (dx1<0): dx1=0\n",
    "\n",
    "    dx2=int(anchor[0]+width/2)\n",
    "    if (dx2>frame_width):dx2=frame_width\n",
    "\n",
    "    return(dy1,dy2,dx1,dx2)\n"
   ]
  },
  {
   "cell_type": "code",
   "execution_count": 8,
   "metadata": {},
   "outputs": [],
   "source": [
    "def max_min_ssim(particles,ref,fov,height,width,threshold=0.9):\n",
    "    \"\"\"This function returns the maximal ssim index and the corresponding anchor \n",
    "    coordinates given an array of particles\"\"\" \n",
    "    \n",
    "    ssims=[]\n",
    "    for i in range (len(particles)):\n",
    "        BB=return_bb_coordinates(particles[i],height,width)\n",
    "        roi=fov[BB[0]:BB[1],BB[2]:BB[3]]\n",
    "        \n",
    "        ssims.append(measure.compare_ssim(ref,roi,multichannel=True,\\\n",
    "                                      gaussian_weights=True))\n",
    "        \n",
    "        #ssims.append(measure.compare_ssim(ref,roi,multichannel=True,\\\n",
    "        #                             win_size=3))\n",
    "    \n",
    "    max_ssim_index=ssims.index(max(ssims))\n",
    "    min_ssim_index=ssims.index(min(ssims))\n",
    "    \n",
    "    return particles[max_ssim_index],ssims[max_ssim_index],max_ssim_index,\\\n",
    "            particles[min_ssim_index],ssims[min_ssim_index],min_ssim_index"
   ]
  },
  {
   "cell_type": "code",
   "execution_count": 9,
   "metadata": {},
   "outputs": [],
   "source": [
    "fov_A=cv2.imread(handoverIn+'_HandoverA_data2_'+str(it)+'.png')"
   ]
  },
  {
   "cell_type": "code",
   "execution_count": 10,
   "metadata": {},
   "outputs": [
    {
     "data": {
      "text/plain": [
       "True"
      ]
     },
     "execution_count": 10,
     "metadata": {},
     "output_type": "execute_result"
    }
   ],
   "source": [
    "#tx and ty are the amount from which the FOVs are translated from one drone to another.\n",
    "# It was assumed this amount is known either empirically or with deduction through drones\n",
    "#Characteristics. We need to apply noise to it as it should be an uncertain measure.\n",
    "\n",
    "std_fov=6\n",
    "std_sampling=8\n",
    "\n",
    "#translation in x and y directions with noises\n",
    "tx0,ty0=-200,10\n",
    "tx=tx0+std_fov*np.random.randn()\n",
    "ty=ty0+std_fov*np.random.randn()\n",
    "\n",
    "#Height and width of BB around target animal\n",
    "height, width, channels = 224,320,3\n",
    "\n",
    "#Simulation of FOVb given anchorA. We assume that the FOV are translated by tx and ty\n",
    "#with noise.\n",
    "\n",
    "num_rows, num_cols = fov_A.shape[:2]\n",
    "translation_matrix = np.float32([[1,0,tx],[0,1,ty]])\n",
    "fov_B=cv2.warpAffine(fov_A,translation_matrix,(num_cols, num_rows))\n",
    "cv2.imwrite(handoverIn+'_HandoverB_data2_'+str(it)+'.png',fov_B)\n"
   ]
  },
  {
   "cell_type": "markdown",
   "metadata": {},
   "source": [
    "## First method"
   ]
  },
  {
   "cell_type": "code",
   "execution_count": 11,
   "metadata": {},
   "outputs": [],
   "source": [
    "start_time = time.time()"
   ]
  },
  {
   "cell_type": "code",
   "execution_count": 12,
   "metadata": {},
   "outputs": [],
   "source": [
    "#anchorA transmitted\n",
    "anchor_A=list(est)\n",
    "\n",
    "#List containnig the ssims for the first method\n",
    "ssim_anchorB_l=[]\n",
    "\n",
    "ssim=0\n",
    "\n",
    "for i in range(N):\n",
    "    \n",
    "    #anchorB given noisy particles transmitted with their weights\n",
    "    anchor_B=[0,0]\n",
    "    noisy_particles=np.zeros((n_particles,2))\n",
    "    noisy_particles[:,0]=tx0+particles[:, 0]+std_fov*np.random.randn(n_particles)\n",
    "    noisy_particles[:,1]=ty0+particles[:, 1]+std_fov*np.random.randn(n_particles)\n",
    "\n",
    "    anchor_B[0] = np.average(noisy_particles[:,0], weights=weights, axis=0).astype(int)\n",
    "    anchor_B[1] = np.average(noisy_particles[:,1], weights=weights, axis=0).astype(int)\n",
    "    \n",
    "    #return droneA ROI\n",
    "    BBa=return_bb_coordinates(anchor_A,height,width)\n",
    "    roi_A=fov_A[BBa[0]:BBa[1],BBa[2]:BBa[3]]\n",
    "\n",
    "    #return droneB ROI\n",
    "    BBb=return_bb_coordinates(anchor_B,height,width)\n",
    "    roi_B=fov_B[BBb[0]:BBb[1],BBb[2]:BBb[3]]\n",
    "    \n",
    "    #Draw droneA and droneB ROI and FOV for one iteration\n",
    "    if i==1:\n",
    "        draw_A=draw_bb(fov_A.copy(),(BBa[2],BBa[0],width,height),anchor_A[0],anchor_A[1])\n",
    "        cv2.imwrite(handover+'_ff_white_BB_A1.jpg',draw_A)\n",
    "\n",
    "        draw_B=draw_bb(fov_B.copy(),(BBb[2],BBb[0],width,height),anchor_B[0],anchor_B[1])\n",
    "        cv2.imwrite(handover+'_ff_white_BB_B1.jpg',draw_B)\n",
    "    \n",
    "    #Compute the SSIM measure given two roi with the parameter gaussian_weights activate\n",
    "    ssim=measure.compare_ssim(roi_A,roi_B, multichannel=True,\\\n",
    "                                          gaussian_weights=True)\n",
    "    \n",
    "    ssim_anchorB_l.append(ssim)\n",
    "    "
   ]
  },
  {
   "cell_type": "code",
   "execution_count": 13,
   "metadata": {},
   "outputs": [
    {
     "data": {
      "text/plain": [
       "0.18379497528076172"
      ]
     },
     "execution_count": 13,
     "metadata": {},
     "output_type": "execute_result"
    }
   ],
   "source": [
    "prog_duration= time.time() - start_time\n",
    "prog_duration"
   ]
  },
  {
   "cell_type": "code",
   "execution_count": 14,
   "metadata": {},
   "outputs": [
    {
     "data": {
      "text/plain": [
       "0.09189748764038086"
      ]
     },
     "execution_count": 14,
     "metadata": {},
     "output_type": "execute_result"
    }
   ],
   "source": [
    "prog_duration/N"
   ]
  },
  {
   "cell_type": "code",
   "execution_count": 15,
   "metadata": {},
   "outputs": [
    {
     "data": {
      "text/plain": [
       "0.0030632495880126955"
      ]
     },
     "execution_count": 15,
     "metadata": {},
     "output_type": "execute_result"
    }
   ],
   "source": [
    "prog_duration/60"
   ]
  },
  {
   "cell_type": "code",
   "execution_count": 16,
   "metadata": {},
   "outputs": [
    {
     "data": {
      "text/plain": [
       "0.0015316247940063477"
      ]
     },
     "execution_count": 16,
     "metadata": {},
     "output_type": "execute_result"
    }
   ],
   "source": [
    "prog_duration/(60*N)"
   ]
  },
  {
   "cell_type": "code",
   "execution_count": 17,
   "metadata": {},
   "outputs": [
    {
     "data": {
      "text/plain": [
       "(0.6739036555841335,\n",
       " 0.026250381677065514,\n",
       " 0.6924654784767216,\n",
       " 0.6553418326915453)"
      ]
     },
     "execution_count": 17,
     "metadata": {},
     "output_type": "execute_result"
    }
   ],
   "source": [
    "stat.mean(ssim_anchorB_l),stat.stdev(ssim_anchorB_l),\\\n",
    "max(ssim_anchorB_l),min(ssim_anchorB_l)"
   ]
  },
  {
   "cell_type": "markdown",
   "metadata": {},
   "source": [
    "## Second Method"
   ]
  },
  {
   "cell_type": "code",
   "execution_count": 18,
   "metadata": {},
   "outputs": [],
   "source": [
    "start_time = time.time()"
   ]
  },
  {
   "cell_type": "code",
   "execution_count": 19,
   "metadata": {},
   "outputs": [],
   "source": [
    "#anchorA transmitted\n",
    "anchor_A=list(est)\n",
    "\n",
    "#List containnig the ssims for the second method\n",
    "ssim_noisy_particles_l=[]\n",
    "\n",
    "ssim_max=0\n",
    "\n",
    "for i in range(N):\n",
    "    \n",
    "    #Compute the noisy transmitted particles and use them to find and draw the combo\n",
    "    #that gives the highest ssim \n",
    "    noisy_particles=np.zeros((n_particles,2))\n",
    "    noisy_particles[:,0]=tx0+particles[:, 0]+std_fov*np.random.randn(n_particles)\n",
    "    noisy_particles[:,1]=ty0+particles[:, 1]+std_fov*np.random.randn(n_particles)\n",
    "\n",
    "    #return droneA ROI\n",
    "    BBa=return_bb_coordinates(anchor_A,height,width)\n",
    "    roi_A=fov_A[BBa[0]:BBa[1],BBa[2]:BBa[3]]\n",
    "    \n",
    "    #Compute the ssim with all noisy particles,retrieve the one that gives the maximal ssim\n",
    "    anchor_ssim=max_min_ssim(noisy_particles,roi_A,fov_B,height,width)\n",
    "    anchor_max,ssim_max=list(anchor_ssim[0]),anchor_ssim[1]\n",
    "     \n",
    "    #Draw droneA and droneB ROI and FOV for one iteration\n",
    "    if i==1:\n",
    "        draw_A=draw_bb(fov_A.copy(),(BBa[2],BBa[0],width,height),anchor_A[0],anchor_A[1])\n",
    "        cv2.imwrite(handover+'_ff_white_BB_A2.jpg',draw_A)\n",
    "\n",
    "        BB_max=return_bb_coordinates(anchor_max,height,width)\n",
    "        draw_max=draw_bb(fov_B.copy(),(BB_max[2],BB_max[0],width,height),anchor_max[0],\\\n",
    "                         anchor_max[1])\n",
    "        cv2.imwrite(handover+'_ff_white_BB_B2.jpg',draw_max)\n",
    "\n",
    "    ssim_noisy_particles_l.append(ssim_max)\n",
    "    "
   ]
  },
  {
   "cell_type": "code",
   "execution_count": 20,
   "metadata": {},
   "outputs": [
    {
     "data": {
      "text/plain": [
       "103.76723384857178"
      ]
     },
     "execution_count": 20,
     "metadata": {},
     "output_type": "execute_result"
    }
   ],
   "source": [
    "prog_duration= time.time() - start_time\n",
    "prog_duration"
   ]
  },
  {
   "cell_type": "code",
   "execution_count": 21,
   "metadata": {},
   "outputs": [
    {
     "data": {
      "text/plain": [
       "51.88361692428589"
      ]
     },
     "execution_count": 21,
     "metadata": {},
     "output_type": "execute_result"
    }
   ],
   "source": [
    "prog_duration/N"
   ]
  },
  {
   "cell_type": "code",
   "execution_count": 22,
   "metadata": {},
   "outputs": [
    {
     "data": {
      "text/plain": [
       "1.7294538974761964"
      ]
     },
     "execution_count": 22,
     "metadata": {},
     "output_type": "execute_result"
    }
   ],
   "source": [
    "prog_duration/60"
   ]
  },
  {
   "cell_type": "code",
   "execution_count": 23,
   "metadata": {},
   "outputs": [
    {
     "data": {
      "text/plain": [
       "0.8647269487380982"
      ]
     },
     "execution_count": 23,
     "metadata": {},
     "output_type": "execute_result"
    }
   ],
   "source": [
    "prog_duration/(60*N)"
   ]
  },
  {
   "cell_type": "code",
   "execution_count": 24,
   "metadata": {},
   "outputs": [
    {
     "data": {
      "text/plain": [
       "(0.9642779822174529, 0.0, 0.9642779822174529, 0.9642779822174529)"
      ]
     },
     "execution_count": 24,
     "metadata": {},
     "output_type": "execute_result"
    }
   ],
   "source": [
    "stat.mean(ssim_noisy_particles_l),stat.stdev(ssim_noisy_particles_l),\\\n",
    "max(ssim_noisy_particles_l),min(ssim_noisy_particles_l)"
   ]
  },
  {
   "cell_type": "markdown",
   "metadata": {},
   "source": [
    "## Third Method"
   ]
  },
  {
   "cell_type": "markdown",
   "metadata": {},
   "source": [
    "### New Particles = 2000"
   ]
  },
  {
   "cell_type": "code",
   "execution_count": 25,
   "metadata": {},
   "outputs": [],
   "source": [
    "n_particles_sampled=2000\n",
    "start_time = time.time()"
   ]
  },
  {
   "cell_type": "code",
   "execution_count": 26,
   "metadata": {},
   "outputs": [],
   "source": [
    "#anchorA transmitted\n",
    "anchor_A=list(est)\n",
    "\n",
    "#List containnig the ssims for the second method\n",
    "ssim_new_particles_l=[]\n",
    "\n",
    "ssim_max=0\n",
    "\n",
    "for i in range(N):\n",
    "    \n",
    "    #Compute the noisy transmitted particles and use them to find and draw the combo\n",
    "    #that gives the highest ssim \n",
    "    anchor_B=[0,0]\n",
    "    noisy_particles=np.zeros((n_particles,2))\n",
    "    noisy_particles[:,0]=tx0+particles[:, 0]+std_fov*np.random.randn(n_particles)\n",
    "    noisy_particles[:,1]=ty0+particles[:, 1]+std_fov*np.random.randn(n_particles)\n",
    "\n",
    "    anchor_B[0] = np.average(noisy_particles[:,0], weights=weights, axis=0).astype(int)\n",
    "    anchor_B[1] = np.average(noisy_particles[:,1], weights=weights, axis=0).astype(int)\n",
    "    \n",
    "\n",
    "    #return droneA ROI\n",
    "    BBa=return_bb_coordinates(anchor_A,height,width)\n",
    "    roi_A=fov_A[BBa[0]:BBa[1],BBa[2]:BBa[3]]\n",
    "    \n",
    "    #Use new sampled particles around transmitted anchor and find and draw the combo that gives\n",
    "    #the highest ssim\n",
    "    particles_high=np.zeros((n_particles_sampled,2))\n",
    "    particles_high[:,0]=anchor_B[0]+std_sampling*np.random.randn(n_particles_sampled)\n",
    "    particles_high[:,1]=anchor_B[1]+std_sampling*np.random.randn(n_particles_sampled)\n",
    "\n",
    "    anchor_ssim=max_min_ssim(particles_high,roi_A,fov_B,height,width)\n",
    "    anchor_max,ssim_max=list(anchor_ssim[0]),anchor_ssim[1]\n",
    "    \n",
    "    #Draw droneA and droneB ROI and FOV for one iteration\n",
    "    if i==1:\n",
    "        draw_A=draw_bb(fov_A.copy(),(BBa[2],BBa[0],width,height),anchor_A[0],anchor_A[1])\n",
    "        cv2.imwrite(handover+'_ff_white_BB_A3_'+str(n_particles_sampled)+'.jpg',draw_A)\n",
    "\n",
    "        BB_max=return_bb_coordinates(anchor_max,height,width)\n",
    "        draw_max=draw_bb(fov_B.copy(),(BB_max[2],BB_max[0],width,height),anchor_max[0],\\\n",
    "                         anchor_max[1])\n",
    "        cv2.imwrite(handover+'_ff_white_BB_B3_'+str(n_particles_sampled)+'.jpg',draw_max)\n",
    "    \n",
    "    ssim_new_particles_l.append(ssim_max)\n",
    "        "
   ]
  },
  {
   "cell_type": "code",
   "execution_count": 27,
   "metadata": {},
   "outputs": [
    {
     "data": {
      "text/plain": [
       "105.79648399353027"
      ]
     },
     "execution_count": 27,
     "metadata": {},
     "output_type": "execute_result"
    }
   ],
   "source": [
    "prog_duration= time.time() - start_time\n",
    "prog_duration"
   ]
  },
  {
   "cell_type": "code",
   "execution_count": 28,
   "metadata": {},
   "outputs": [
    {
     "data": {
      "text/plain": [
       "52.89824199676514"
      ]
     },
     "execution_count": 28,
     "metadata": {},
     "output_type": "execute_result"
    }
   ],
   "source": [
    "prog_duration/N"
   ]
  },
  {
   "cell_type": "code",
   "execution_count": 29,
   "metadata": {},
   "outputs": [
    {
     "data": {
      "text/plain": [
       "1.7632747332255045"
      ]
     },
     "execution_count": 29,
     "metadata": {},
     "output_type": "execute_result"
    }
   ],
   "source": [
    "prog_duration/60"
   ]
  },
  {
   "cell_type": "code",
   "execution_count": 30,
   "metadata": {},
   "outputs": [
    {
     "data": {
      "text/plain": [
       "0.8816373666127523"
      ]
     },
     "execution_count": 30,
     "metadata": {},
     "output_type": "execute_result"
    }
   ],
   "source": [
    "prog_duration/(60*N)"
   ]
  },
  {
   "cell_type": "code",
   "execution_count": 31,
   "metadata": {},
   "outputs": [
    {
     "data": {
      "text/plain": [
       "(0.9915261563441186, 0.0, 0.9915261563441186, 0.9915261563441186)"
      ]
     },
     "execution_count": 31,
     "metadata": {},
     "output_type": "execute_result"
    }
   ],
   "source": [
    "stat.mean(ssim_new_particles_l),stat.stdev(ssim_new_particles_l),\\\n",
    "max(ssim_new_particles_l),min(ssim_new_particles_l)"
   ]
  },
  {
   "cell_type": "markdown",
   "metadata": {},
   "source": [
    "### New Particles = 4000"
   ]
  },
  {
   "cell_type": "code",
   "execution_count": 32,
   "metadata": {},
   "outputs": [],
   "source": [
    "n_particles_sampled=4000\n",
    "start_time = time.time()"
   ]
  },
  {
   "cell_type": "code",
   "execution_count": 33,
   "metadata": {},
   "outputs": [],
   "source": [
    "#anchorA transmitted\n",
    "anchor_A=list(est)\n",
    "\n",
    "#List containnig the ssims for the second method\n",
    "ssim_new_particles_l=[]\n",
    "\n",
    "ssim_max=0\n",
    "\n",
    "for i in range(N):\n",
    "    \n",
    "    #Compute the noisy transmitted particles and use them to find and draw the combo\n",
    "    #that gives the highest ssim \n",
    "    anchor_B=[0,0]\n",
    "    noisy_particles=np.zeros((n_particles,2))\n",
    "    noisy_particles[:,0]=tx0+particles[:, 0]+std_fov*np.random.randn(n_particles)\n",
    "    noisy_particles[:,1]=ty0+particles[:, 1]+std_fov*np.random.randn(n_particles)\n",
    "\n",
    "    anchor_B[0] = np.average(noisy_particles[:,0], weights=weights, axis=0).astype(int)\n",
    "    anchor_B[1] = np.average(noisy_particles[:,1], weights=weights, axis=0).astype(int)\n",
    "    \n",
    "\n",
    "    #return droneA ROI\n",
    "    BBa=return_bb_coordinates(anchor_A,height,width)\n",
    "    roi_A=fov_A[BBa[0]:BBa[1],BBa[2]:BBa[3]]\n",
    "    \n",
    "    #Use new sampled particles around transmitted anchor and find and draw the combo that gives\n",
    "    #the highest ssim\n",
    "    particles_high=np.zeros((n_particles_sampled,2))\n",
    "    particles_high[:,0]=anchor_B[0]+std_sampling*np.random.randn(n_particles_sampled)\n",
    "    particles_high[:,1]=anchor_B[1]+std_sampling*np.random.randn(n_particles_sampled)\n",
    "\n",
    "    anchor_ssim=max_min_ssim(particles_high,roi_A,fov_B,height,width)\n",
    "    anchor_max,ssim_max=list(anchor_ssim[0]),anchor_ssim[1]\n",
    "    \n",
    "    #Draw droneA and droneB ROI and FOV for one iteration\n",
    "    if i==1:\n",
    "        draw_A=draw_bb(fov_A.copy(),(BBa[2],BBa[0],width,height),anchor_A[0],anchor_A[1])\n",
    "        cv2.imwrite(handover+'_ff_white_BB_A3_'+str(n_particles_sampled)+'.jpg',draw_A)\n",
    "\n",
    "        BB_max=return_bb_coordinates(anchor_max,height,width)\n",
    "        draw_max=draw_bb(fov_B.copy(),(BB_max[2],BB_max[0],width,height),anchor_max[0],\\\n",
    "                         anchor_max[1])\n",
    "        cv2.imwrite(handover+'_ff_white_BB_B3_'+str(n_particles_sampled)+'.jpg',draw_max)\n",
    "    \n",
    "    ssim_new_particles_l.append(ssim_max)\n",
    "        "
   ]
  },
  {
   "cell_type": "code",
   "execution_count": 34,
   "metadata": {},
   "outputs": [
    {
     "data": {
      "text/plain": [
       "209.7237524986267"
      ]
     },
     "execution_count": 34,
     "metadata": {},
     "output_type": "execute_result"
    }
   ],
   "source": [
    "prog_duration= time.time() - start_time\n",
    "prog_duration"
   ]
  },
  {
   "cell_type": "code",
   "execution_count": 35,
   "metadata": {},
   "outputs": [
    {
     "data": {
      "text/plain": [
       "104.86187624931335"
      ]
     },
     "execution_count": 35,
     "metadata": {},
     "output_type": "execute_result"
    }
   ],
   "source": [
    "prog_duration/N"
   ]
  },
  {
   "cell_type": "code",
   "execution_count": 36,
   "metadata": {},
   "outputs": [
    {
     "data": {
      "text/plain": [
       "3.495395874977112"
      ]
     },
     "execution_count": 36,
     "metadata": {},
     "output_type": "execute_result"
    }
   ],
   "source": [
    "prog_duration/60"
   ]
  },
  {
   "cell_type": "code",
   "execution_count": 37,
   "metadata": {},
   "outputs": [
    {
     "data": {
      "text/plain": [
       "1.747697937488556"
      ]
     },
     "execution_count": 37,
     "metadata": {},
     "output_type": "execute_result"
    }
   ],
   "source": [
    "prog_duration/(60*N)"
   ]
  },
  {
   "cell_type": "code",
   "execution_count": 38,
   "metadata": {},
   "outputs": [
    {
     "data": {
      "text/plain": [
       "(0.9915261563441186, 0.0, 0.9915261563441186, 0.9915261563441186)"
      ]
     },
     "execution_count": 38,
     "metadata": {},
     "output_type": "execute_result"
    }
   ],
   "source": [
    "stat.mean(ssim_new_particles_l),stat.stdev(ssim_new_particles_l),\\\n",
    "max(ssim_new_particles_l),min(ssim_new_particles_l)"
   ]
  },
  {
   "cell_type": "markdown",
   "metadata": {},
   "source": [
    "### New Particles = 6000 "
   ]
  },
  {
   "cell_type": "code",
   "execution_count": 39,
   "metadata": {},
   "outputs": [],
   "source": [
    "n_particles_sampled=6000\n",
    "start_time = time.time()"
   ]
  },
  {
   "cell_type": "code",
   "execution_count": 40,
   "metadata": {},
   "outputs": [],
   "source": [
    "#anchorA transmitted\n",
    "anchor_A=list(est)\n",
    "\n",
    "#List containnig the ssims for the second method\n",
    "ssim_new_particles_l=[]\n",
    "\n",
    "ssim_max=0\n",
    "\n",
    "for i in range(N):\n",
    "    \n",
    "    #Compute the noisy transmitted particles and use them to find and draw the combo\n",
    "    #that gives the highest ssim \n",
    "    anchor_B=[0,0]\n",
    "    noisy_particles=np.zeros((n_particles,2))\n",
    "    noisy_particles[:,0]=tx0+particles[:, 0]+std_fov*np.random.randn(n_particles)\n",
    "    noisy_particles[:,1]=ty0+particles[:, 1]+std_fov*np.random.randn(n_particles)\n",
    "\n",
    "    anchor_B[0] = np.average(noisy_particles[:,0], weights=weights, axis=0).astype(int)\n",
    "    anchor_B[1] = np.average(noisy_particles[:,1], weights=weights, axis=0).astype(int)\n",
    "    \n",
    "\n",
    "    #return droneA ROI\n",
    "    BBa=return_bb_coordinates(anchor_A,height,width)\n",
    "    roi_A=fov_A[BBa[0]:BBa[1],BBa[2]:BBa[3]]\n",
    "    \n",
    "    #Use new sampled particles around transmitted anchor and find and draw the combo that gives\n",
    "    #the highest ssim\n",
    "    particles_high=np.zeros((n_particles_sampled,2))\n",
    "    particles_high[:,0]=anchor_B[0]+std_sampling*np.random.randn(n_particles_sampled)\n",
    "    particles_high[:,1]=anchor_B[1]+std_sampling*np.random.randn(n_particles_sampled)\n",
    "\n",
    "    anchor_ssim=max_min_ssim(particles_high,roi_A,fov_B,height,width)\n",
    "    anchor_max,ssim_max=list(anchor_ssim[0]),anchor_ssim[1]\n",
    "    \n",
    "    #Draw droneA and droneB ROI and FOV for one iteration\n",
    "    if i==1:\n",
    "        draw_A=draw_bb(fov_A.copy(),(BBa[2],BBa[0],width,height),anchor_A[0],anchor_A[1])\n",
    "        cv2.imwrite(handover+'_ff_white_BB_A3_'+str(n_particles_sampled)+'.jpg',draw_A)\n",
    "\n",
    "        BB_max=return_bb_coordinates(anchor_max,height,width)\n",
    "        draw_max=draw_bb(fov_B.copy(),(BB_max[2],BB_max[0],width,height),anchor_max[0],\\\n",
    "                         anchor_max[1])\n",
    "        cv2.imwrite(handover+'_ff_white_BB_B3_'+str(n_particles_sampled)+'.jpg',draw_max)\n",
    "    \n",
    "    ssim_new_particles_l.append(ssim_max)\n",
    "        "
   ]
  },
  {
   "cell_type": "code",
   "execution_count": 41,
   "metadata": {},
   "outputs": [
    {
     "data": {
      "text/plain": [
       "305.36625695228577"
      ]
     },
     "execution_count": 41,
     "metadata": {},
     "output_type": "execute_result"
    }
   ],
   "source": [
    "prog_duration= time.time() - start_time\n",
    "prog_duration"
   ]
  },
  {
   "cell_type": "code",
   "execution_count": 42,
   "metadata": {},
   "outputs": [
    {
     "data": {
      "text/plain": [
       "152.68312847614288"
      ]
     },
     "execution_count": 42,
     "metadata": {},
     "output_type": "execute_result"
    }
   ],
   "source": [
    "prog_duration/N"
   ]
  },
  {
   "cell_type": "code",
   "execution_count": 43,
   "metadata": {},
   "outputs": [
    {
     "data": {
      "text/plain": [
       "5.08943761587143"
      ]
     },
     "execution_count": 43,
     "metadata": {},
     "output_type": "execute_result"
    }
   ],
   "source": [
    "prog_duration/60"
   ]
  },
  {
   "cell_type": "code",
   "execution_count": 44,
   "metadata": {},
   "outputs": [
    {
     "data": {
      "text/plain": [
       "2.544718807935715"
      ]
     },
     "execution_count": 44,
     "metadata": {},
     "output_type": "execute_result"
    }
   ],
   "source": [
    "prog_duration/(60*N)"
   ]
  },
  {
   "cell_type": "code",
   "execution_count": 45,
   "metadata": {},
   "outputs": [
    {
     "data": {
      "text/plain": [
       "(0.9915261563441186, 0.0, 0.9915261563441186, 0.9915261563441186)"
      ]
     },
     "execution_count": 45,
     "metadata": {},
     "output_type": "execute_result"
    }
   ],
   "source": [
    "stat.mean(ssim_new_particles_l),stat.stdev(ssim_new_particles_l),\\\n",
    "max(ssim_new_particles_l),min(ssim_new_particles_l)"
   ]
  },
  {
   "cell_type": "markdown",
   "metadata": {},
   "source": [
    "### New Particles = 8000 "
   ]
  },
  {
   "cell_type": "code",
   "execution_count": 46,
   "metadata": {},
   "outputs": [],
   "source": [
    "n_particles_sampled=8000\n",
    "start_time = time.time()"
   ]
  },
  {
   "cell_type": "code",
   "execution_count": 47,
   "metadata": {},
   "outputs": [],
   "source": [
    "#anchorA transmitted\n",
    "anchor_A=list(est)\n",
    "\n",
    "#List containnig the ssims for the second method\n",
    "ssim_new_particles_l=[]\n",
    "\n",
    "ssim_max=0\n",
    "\n",
    "for i in range(N):\n",
    "    \n",
    "    #Compute the noisy transmitted particles and use them to find and draw the combo\n",
    "    #that gives the highest ssim \n",
    "    anchor_B=[0,0]\n",
    "    noisy_particles=np.zeros((n_particles,2))\n",
    "    noisy_particles[:,0]=tx0+particles[:, 0]+std_fov*np.random.randn(n_particles)\n",
    "    noisy_particles[:,1]=ty0+particles[:, 1]+std_fov*np.random.randn(n_particles)\n",
    "\n",
    "    anchor_B[0] = np.average(noisy_particles[:,0], weights=weights, axis=0).astype(int)\n",
    "    anchor_B[1] = np.average(noisy_particles[:,1], weights=weights, axis=0).astype(int)\n",
    "    \n",
    "\n",
    "    #return droneA ROI\n",
    "    BBa=return_bb_coordinates(anchor_A,height,width)\n",
    "    roi_A=fov_A[BBa[0]:BBa[1],BBa[2]:BBa[3]]\n",
    "    \n",
    "    #Use new sampled particles around transmitted anchor and find and draw the combo that gives\n",
    "    #the highest ssim\n",
    "    particles_high=np.zeros((n_particles_sampled,2))\n",
    "    particles_high[:,0]=anchor_B[0]+std_sampling*np.random.randn(n_particles_sampled)\n",
    "    particles_high[:,1]=anchor_B[1]+std_sampling*np.random.randn(n_particles_sampled)\n",
    "\n",
    "    anchor_ssim=max_min_ssim(particles_high,roi_A,fov_B,height,width)\n",
    "    anchor_max,ssim_max=list(anchor_ssim[0]),anchor_ssim[1]\n",
    "    \n",
    "    #Draw droneA and droneB ROI and FOV for one iteration\n",
    "    if i==1:\n",
    "        draw_A=draw_bb(fov_A.copy(),(BBa[2],BBa[0],width,height),anchor_A[0],anchor_A[1])\n",
    "        cv2.imwrite(handover+'_ff_white_BB_A3_'+str(n_particles_sampled)+'.jpg',draw_A)\n",
    "\n",
    "        BB_max=return_bb_coordinates(anchor_max,height,width)\n",
    "        draw_max=draw_bb(fov_B.copy(),(BB_max[2],BB_max[0],width,height),anchor_max[0],\\\n",
    "                         anchor_max[1])\n",
    "        cv2.imwrite(handover+'_ff_white_BB_B3_'+str(n_particles_sampled)+'.jpg',draw_max)\n",
    "    \n",
    "    ssim_new_particles_l.append(ssim_max)\n",
    "        "
   ]
  },
  {
   "cell_type": "code",
   "execution_count": 48,
   "metadata": {},
   "outputs": [
    {
     "data": {
      "text/plain": [
       "427.9078197479248"
      ]
     },
     "execution_count": 48,
     "metadata": {},
     "output_type": "execute_result"
    }
   ],
   "source": [
    "prog_duration= time.time() - start_time\n",
    "prog_duration"
   ]
  },
  {
   "cell_type": "code",
   "execution_count": 49,
   "metadata": {},
   "outputs": [
    {
     "data": {
      "text/plain": [
       "213.9539098739624"
      ]
     },
     "execution_count": 49,
     "metadata": {},
     "output_type": "execute_result"
    }
   ],
   "source": [
    "prog_duration/N"
   ]
  },
  {
   "cell_type": "code",
   "execution_count": 50,
   "metadata": {},
   "outputs": [
    {
     "data": {
      "text/plain": [
       "7.131796995798747"
      ]
     },
     "execution_count": 50,
     "metadata": {},
     "output_type": "execute_result"
    }
   ],
   "source": [
    "prog_duration/60"
   ]
  },
  {
   "cell_type": "code",
   "execution_count": 51,
   "metadata": {},
   "outputs": [
    {
     "data": {
      "text/plain": [
       "3.5658984978993735"
      ]
     },
     "execution_count": 51,
     "metadata": {},
     "output_type": "execute_result"
    }
   ],
   "source": [
    "prog_duration/(60*N)"
   ]
  },
  {
   "cell_type": "code",
   "execution_count": 52,
   "metadata": {},
   "outputs": [
    {
     "data": {
      "text/plain": [
       "(0.9915261563441186, 0.0, 0.9915261563441186, 0.9915261563441186)"
      ]
     },
     "execution_count": 52,
     "metadata": {},
     "output_type": "execute_result"
    }
   ],
   "source": [
    "stat.mean(ssim_new_particles_l),stat.stdev(ssim_new_particles_l),\\\n",
    "max(ssim_new_particles_l),min(ssim_new_particles_l)"
   ]
  },
  {
   "cell_type": "code",
   "execution_count": null,
   "metadata": {},
   "outputs": [],
   "source": []
  }
 ],
 "metadata": {
  "kernelspec": {
   "display_name": "Python 3",
   "language": "python",
   "name": "python3"
  },
  "language_info": {
   "codemirror_mode": {
    "name": "ipython",
    "version": 3
   },
   "file_extension": ".py",
   "mimetype": "text/x-python",
   "name": "python",
   "nbconvert_exporter": "python",
   "pygments_lexer": "ipython3",
   "version": "3.6.9"
  }
 },
 "nbformat": 4,
 "nbformat_minor": 2
}
