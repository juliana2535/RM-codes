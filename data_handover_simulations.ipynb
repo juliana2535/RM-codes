{
 "cells": [
  {
   "cell_type": "code",
   "execution_count": null,
   "metadata": {},
   "outputs": [],
   "source": [
    "#Import of useful librairies\n",
    "import cv2\n",
    "import math\n",
    "import numpy as np\n",
    "from skimage import measure\n",
    "import statistics as stat\n",
    "import time"
   ]
  },
  {
   "cell_type": "code",
   "execution_count": null,
   "metadata": {},
   "outputs": [],
   "source": [
    "handoverIn=\"./Outputs/handpics/cows\"\n",
    "handover='./Outputs/handouts/cows'\n",
    "it=200"
   ]
  },
  {
   "cell_type": "code",
   "execution_count": null,
   "metadata": {},
   "outputs": [],
   "source": [
    "N=2"
   ]
  },
  {
   "cell_type": "code",
   "execution_count": null,
   "metadata": {},
   "outputs": [],
   "source": [
    "frame_height=1080\n",
    "frame_width=1920"
   ]
  },
  {
   "cell_type": "code",
   "execution_count": null,
   "metadata": {},
   "outputs": [],
   "source": [
    "#import particles their weigths and the anchor at handover time\n",
    "particles=np.load(handoverIn+\"_particles_data2_\"+str(it)+\".npy\")\n",
    "weights=np.load(handoverIn+'_weights_data2_'+str(it)+'.npy')\n",
    "est=np.load(handoverIn+\"_estimation_data2_\"+str(it)+\".npy\")\n",
    "\n",
    "n_particles=len(particles)"
   ]
  },
  {
   "cell_type": "code",
   "execution_count": null,
   "metadata": {},
   "outputs": [],
   "source": [
    "def draw_bb(frame,BB,x,y):\n",
    "        \"\"\"This function draw BB and center of object\"\"\"\n",
    "        cv2.circle(frame,(int(x),int(y)),5,[0,255,0],3)\n",
    "        cv2.rectangle(frame, (BB[0],BB[1]), (BB[0]+BB[2],BB[1]+BB[3]), (0,0,255), 2)\n",
    "        return frame"
   ]
  },
  {
   "cell_type": "code",
   "execution_count": null,
   "metadata": {},
   "outputs": [],
   "source": [
    "def return_bb_coordinates(anchor,height,width):\n",
    "    \"\"\"This function return the BB coordinates. The y coordinates of the top\n",
    "    left corner and the right bottom corner are first returned, while the x coordinates \n",
    "    come last.\"\"\"\n",
    "\n",
    "    dy1=int(anchor[1]-height/2)\n",
    "    if(dy1<0):dy1=0\n",
    "\n",
    "    dy2=int(anchor[1]+height/2)\n",
    "    if (dy2>frame_height):dy2=frame_height\n",
    "\n",
    "    dx1=int(anchor[0]-width/2)\n",
    "    if (dx1<0): dx1=0\n",
    "\n",
    "    dx2=int(anchor[0]+width/2)\n",
    "    if (dx2>frame_width):dx2=frame_width\n",
    "\n",
    "    return(dy1,dy2,dx1,dx2)\n"
   ]
  },
  {
   "cell_type": "code",
   "execution_count": null,
   "metadata": {},
   "outputs": [],
   "source": [
    "def max_min_ssim(particles,ref,fov,height,width,threshold=0.9):\n",
    "    \"\"\"This function returns the maximal ssim index and the corresponding anchor \n",
    "    coordinates given an array of particles\"\"\" \n",
    "    \n",
    "    ssims=[]\n",
    "    for i in range (len(particles)):\n",
    "        BB=return_bb_coordinates(particles[i],height,width)\n",
    "        roi=fov[BB[0]:BB[1],BB[2]:BB[3]]\n",
    "        \n",
    "        ssims.append(measure.compare_ssim(ref,roi,multichannel=True,\\\n",
    "                                      gaussian_weights=True))\n",
    "        \n",
    "        #ssims.append(measure.compare_ssim(ref,roi,multichannel=True,\\\n",
    "        #                             win_size=3))\n",
    "    \n",
    "    max_ssim_index=ssims.index(max(ssims))\n",
    "    min_ssim_index=ssims.index(min(ssims))\n",
    "    \n",
    "    return particles[max_ssim_index],ssims[max_ssim_index],max_ssim_index,\\\n",
    "            particles[min_ssim_index],ssims[min_ssim_index],min_ssim_index"
   ]
  },
  {
   "cell_type": "code",
   "execution_count": null,
   "metadata": {},
   "outputs": [],
   "source": [
    "fov_A=cv2.imread(handoverIn+'_HandoverA_data2_'+str(it)+'.png')"
   ]
  },
  {
   "cell_type": "code",
   "execution_count": null,
   "metadata": {},
   "outputs": [],
   "source": [
    "#tx and ty are the amount from which the FOVs are translated from one drone to another.\n",
    "# It was assumed this amount is known either empirically or with deduction through drones\n",
    "#Characteristics. We need to apply noise to it as it should be an uncertain measure.\n",
    "\n",
    "std_fov=6\n",
    "std_sampling=8\n",
    "\n",
    "#translation in x and y directions with noises\n",
    "tx0,ty0=-200,10\n",
    "tx=tx0+std_fov*np.random.randn()\n",
    "ty=ty0+std_fov*np.random.randn()\n",
    "\n",
    "#Height and width of BB around target animal\n",
    "height, width, channels = 224,320,3\n",
    "\n",
    "#Simulation of FOVb given anchorA. We assume that the FOV are translated by tx and ty\n",
    "#with noise.\n",
    "\n",
    "num_rows, num_cols = fov_A.shape[:2]\n",
    "translation_matrix = np.float32([[1,0,tx],[0,1,ty]])\n",
    "fov_B=cv2.warpAffine(fov_A,translation_matrix,(num_cols, num_rows))\n",
    "cv2.imwrite(handoverIn+'_HandoverB_data2_'+str(it)+'.png',fov_B)\n"
   ]
  },
  {
   "cell_type": "markdown",
   "metadata": {},
   "source": [
    "## First method"
   ]
  },
  {
   "cell_type": "code",
   "execution_count": null,
   "metadata": {},
   "outputs": [],
   "source": [
    "start_time = time.time()"
   ]
  },
  {
   "cell_type": "code",
   "execution_count": null,
   "metadata": {},
   "outputs": [],
   "source": [
    "#anchorA transmitted\n",
    "anchor_A=list(est)\n",
    "\n",
    "#List containnig the ssims for the first method\n",
    "ssim_anchorB_l=[]\n",
    "\n",
    "ssim=0\n",
    "\n",
    "for i in range(N):\n",
    "    \n",
    "    #anchorB given noisy particles transmitted with their weights\n",
    "    anchor_B=[0,0]\n",
    "    noisy_particles=np.zeros((n_particles,2))\n",
    "    noisy_particles[:,0]=tx0+particles[:, 0]+std_fov*np.random.randn(n_particles)\n",
    "    noisy_particles[:,1]=ty0+particles[:, 1]+std_fov*np.random.randn(n_particles)\n",
    "\n",
    "    anchor_B[0] = np.average(noisy_particles[:,0], weights=weights, axis=0).astype(int)\n",
    "    anchor_B[1] = np.average(noisy_particles[:,1], weights=weights, axis=0).astype(int)\n",
    "    \n",
    "    #return droneA ROI\n",
    "    BBa=return_bb_coordinates(anchor_A,height,width)\n",
    "    roi_A=fov_A[BBa[0]:BBa[1],BBa[2]:BBa[3]]\n",
    "\n",
    "    #return droneB ROI\n",
    "    BBb=return_bb_coordinates(anchor_B,height,width)\n",
    "    roi_B=fov_B[BBb[0]:BBb[1],BBb[2]:BBb[3]]\n",
    "    \n",
    "    #Draw droneA and droneB ROI and FOV for one iteration\n",
    "    if i==1:\n",
    "        draw_A=draw_bb(fov_A.copy(),(BBa[2],BBa[0],width,height),anchor_A[0],anchor_A[1])\n",
    "        cv2.imwrite(handover+'_ff_white_BB_A1.jpg',draw_A)\n",
    "\n",
    "        draw_B=draw_bb(fov_B.copy(),(BBb[2],BBb[0],width,height),anchor_B[0],anchor_B[1])\n",
    "        cv2.imwrite(handover+'_ff_white_BB_B1.jpg',draw_B)\n",
    "    \n",
    "    #Compute the SSIM measure given two roi with the parameter gaussian_weights activate\n",
    "    ssim=measure.compare_ssim(roi_A,roi_B, multichannel=True,\\\n",
    "                                          gaussian_weights=True)\n",
    "    \n",
    "    ssim_anchorB_l.append(ssim)\n",
    "    "
   ]
  },
  {
   "cell_type": "code",
   "execution_count": null,
   "metadata": {},
   "outputs": [],
   "source": [
    "prog_duration= time.time() - start_time\n",
    "prog_duration"
   ]
  },
  {
   "cell_type": "code",
   "execution_count": null,
   "metadata": {},
   "outputs": [],
   "source": [
    "prog_duration/N"
   ]
  },
  {
   "cell_type": "code",
   "execution_count": null,
   "metadata": {},
   "outputs": [],
   "source": [
    "prog_duration/60"
   ]
  },
  {
   "cell_type": "code",
   "execution_count": null,
   "metadata": {},
   "outputs": [],
   "source": [
    "prog_duration/(60*N)"
   ]
  },
  {
   "cell_type": "code",
   "execution_count": null,
   "metadata": {},
   "outputs": [],
   "source": [
    "stat.mean(ssim_anchorB_l),stat.stdev(ssim_anchorB_l),\\\n",
    "max(ssim_anchorB_l),min(ssim_anchorB_l)"
   ]
  },
  {
   "cell_type": "markdown",
   "metadata": {},
   "source": [
    "## Second Method"
   ]
  },
  {
   "cell_type": "code",
   "execution_count": null,
   "metadata": {},
   "outputs": [],
   "source": [
    "start_time = time.time()"
   ]
  },
  {
   "cell_type": "code",
   "execution_count": null,
   "metadata": {},
   "outputs": [],
   "source": [
    "#anchorA transmitted\n",
    "anchor_A=list(est)\n",
    "\n",
    "#List containnig the ssims for the second method\n",
    "ssim_noisy_particles_l=[]\n",
    "\n",
    "ssim_max=0\n",
    "\n",
    "for i in range(N):\n",
    "    \n",
    "    #Compute the noisy transmitted particles and use them to find and draw the combo\n",
    "    #that gives the highest ssim \n",
    "    noisy_particles=np.zeros((n_particles,2))\n",
    "    noisy_particles[:,0]=tx0+particles[:, 0]+std_fov*np.random.randn(n_particles)\n",
    "    noisy_particles[:,1]=ty0+particles[:, 1]+std_fov*np.random.randn(n_particles)\n",
    "\n",
    "    #return droneA ROI\n",
    "    BBa=return_bb_coordinates(anchor_A,height,width)\n",
    "    roi_A=fov_A[BBa[0]:BBa[1],BBa[2]:BBa[3]]\n",
    "    \n",
    "    #Compute the ssim with all noisy particles,retrieve the one that gives the maximal ssim\n",
    "    anchor_ssim=max_min_ssim(noisy_particles,roi_A,fov_B,height,width)\n",
    "    anchor_max,ssim_max=list(anchor_ssim[0]),anchor_ssim[1]\n",
    "     \n",
    "    #Draw droneA and droneB ROI and FOV for one iteration\n",
    "    if i==1:\n",
    "        draw_A=draw_bb(fov_A.copy(),(BBa[2],BBa[0],width,height),anchor_A[0],anchor_A[1])\n",
    "        cv2.imwrite(handover+'_ff_white_BB_A2.jpg',draw_A)\n",
    "\n",
    "        BB_max=return_bb_coordinates(anchor_max,height,width)\n",
    "        draw_max=draw_bb(fov_B.copy(),(BB_max[2],BB_max[0],width,height),anchor_max[0],\\\n",
    "                         anchor_max[1])\n",
    "        cv2.imwrite(handover+'_ff_white_BB_B2.jpg',draw_max)\n",
    "\n",
    "    ssim_noisy_particles_l.append(ssim_max)\n",
    "    "
   ]
  },
  {
   "cell_type": "code",
   "execution_count": null,
   "metadata": {},
   "outputs": [],
   "source": [
    "prog_duration= time.time() - start_time\n",
    "prog_duration"
   ]
  },
  {
   "cell_type": "code",
   "execution_count": null,
   "metadata": {},
   "outputs": [],
   "source": [
    "prog_duration/N"
   ]
  },
  {
   "cell_type": "code",
   "execution_count": null,
   "metadata": {},
   "outputs": [],
   "source": [
    "prog_duration/60"
   ]
  },
  {
   "cell_type": "code",
   "execution_count": null,
   "metadata": {},
   "outputs": [],
   "source": [
    "prog_duration/(60*N)"
   ]
  },
  {
   "cell_type": "code",
   "execution_count": null,
   "metadata": {},
   "outputs": [],
   "source": [
    "stat.mean(ssim_noisy_particles_l),stat.stdev(ssim_noisy_particles_l),\\\n",
    "max(ssim_noisy_particles_l),min(ssim_noisy_particles_l)"
   ]
  },
  {
   "cell_type": "markdown",
   "metadata": {},
   "source": [
    "## Third Method"
   ]
  },
  {
   "cell_type": "markdown",
   "metadata": {},
   "source": [
    "### New Particles = 2000"
   ]
  },
  {
   "cell_type": "code",
   "execution_count": null,
   "metadata": {},
   "outputs": [],
   "source": [
    "n_particles_sampled=2000\n",
    "start_time = time.time()"
   ]
  },
  {
   "cell_type": "code",
   "execution_count": null,
   "metadata": {},
   "outputs": [],
   "source": [
    "#anchorA transmitted\n",
    "anchor_A=list(est)\n",
    "\n",
    "#List containnig the ssims for the second method\n",
    "ssim_new_particles_l=[]\n",
    "\n",
    "ssim_max=0\n",
    "\n",
    "for i in range(N):\n",
    "    \n",
    "    #Compute the noisy transmitted particles and use them to find and draw the combo\n",
    "    #that gives the highest ssim \n",
    "    anchor_B=[0,0]\n",
    "    noisy_particles=np.zeros((n_particles,2))\n",
    "    noisy_particles[:,0]=tx0+particles[:, 0]+std_fov*np.random.randn(n_particles)\n",
    "    noisy_particles[:,1]=ty0+particles[:, 1]+std_fov*np.random.randn(n_particles)\n",
    "\n",
    "    anchor_B[0] = np.average(noisy_particles[:,0], weights=weights, axis=0).astype(int)\n",
    "    anchor_B[1] = np.average(noisy_particles[:,1], weights=weights, axis=0).astype(int)\n",
    "    \n",
    "\n",
    "    #return droneA ROI\n",
    "    BBa=return_bb_coordinates(anchor_A,height,width)\n",
    "    roi_A=fov_A[BBa[0]:BBa[1],BBa[2]:BBa[3]]\n",
    "    \n",
    "    #Use new sampled particles around transmitted anchor and find and draw the combo that gives\n",
    "    #the highest ssim\n",
    "    particles_high=np.zeros((n_particles_sampled,2))\n",
    "    particles_high[:,0]=anchor_B[0]+std_sampling*np.random.randn(n_particles_sampled)\n",
    "    particles_high[:,1]=anchor_B[1]+std_sampling*np.random.randn(n_particles_sampled)\n",
    "\n",
    "    anchor_ssim=max_min_ssim(particles_high,roi_A,fov_B,height,width)\n",
    "    anchor_max,ssim_max=list(anchor_ssim[0]),anchor_ssim[1]\n",
    "    \n",
    "    #Draw droneA and droneB ROI and FOV for one iteration\n",
    "    if i==1:\n",
    "        draw_A=draw_bb(fov_A.copy(),(BBa[2],BBa[0],width,height),anchor_A[0],anchor_A[1])\n",
    "        cv2.imwrite(handover+'_ff_white_BB_A3_'+str(n_particles_sampled)+'.jpg',draw_A)\n",
    "\n",
    "        BB_max=return_bb_coordinates(anchor_max,height,width)\n",
    "        draw_max=draw_bb(fov_B.copy(),(BB_max[2],BB_max[0],width,height),anchor_max[0],\\\n",
    "                         anchor_max[1])\n",
    "        cv2.imwrite(handover+'_ff_white_BB_B3_'+str(n_particles_sampled)+'.jpg',draw_max)\n",
    "    \n",
    "    ssim_new_particles_l.append(ssim_max)\n",
    "        "
   ]
  },
  {
   "cell_type": "code",
   "execution_count": null,
   "metadata": {},
   "outputs": [],
   "source": [
    "prog_duration= time.time() - start_time\n",
    "prog_duration"
   ]
  },
  {
   "cell_type": "code",
   "execution_count": null,
   "metadata": {},
   "outputs": [],
   "source": [
    "prog_duration/N"
   ]
  },
  {
   "cell_type": "code",
   "execution_count": null,
   "metadata": {},
   "outputs": [],
   "source": [
    "prog_duration/60"
   ]
  },
  {
   "cell_type": "code",
   "execution_count": null,
   "metadata": {},
   "outputs": [],
   "source": [
    "prog_duration/(60*N)"
   ]
  },
  {
   "cell_type": "code",
   "execution_count": null,
   "metadata": {},
   "outputs": [],
   "source": [
    "stat.mean(ssim_new_particles_l),stat.stdev(ssim_new_particles_l),\\\n",
    "max(ssim_new_particles_l),min(ssim_new_particles_l)"
   ]
  },
  {
   "cell_type": "markdown",
   "metadata": {},
   "source": [
    "### New Particles = 4000"
   ]
  },
  {
   "cell_type": "code",
   "execution_count": null,
   "metadata": {},
   "outputs": [],
   "source": [
    "n_particles_sampled=4000\n",
    "start_time = time.time()"
   ]
  },
  {
   "cell_type": "code",
   "execution_count": null,
   "metadata": {},
   "outputs": [],
   "source": [
    "#anchorA transmitted\n",
    "anchor_A=list(est)\n",
    "\n",
    "#List containnig the ssims for the second method\n",
    "ssim_new_particles_l=[]\n",
    "\n",
    "ssim_max=0\n",
    "\n",
    "for i in range(N):\n",
    "    \n",
    "    #Compute the noisy transmitted particles and use them to find and draw the combo\n",
    "    #that gives the highest ssim \n",
    "    anchor_B=[0,0]\n",
    "    noisy_particles=np.zeros((n_particles,2))\n",
    "    noisy_particles[:,0]=tx0+particles[:, 0]+std_fov*np.random.randn(n_particles)\n",
    "    noisy_particles[:,1]=ty0+particles[:, 1]+std_fov*np.random.randn(n_particles)\n",
    "\n",
    "    anchor_B[0] = np.average(noisy_particles[:,0], weights=weights, axis=0).astype(int)\n",
    "    anchor_B[1] = np.average(noisy_particles[:,1], weights=weights, axis=0).astype(int)\n",
    "    \n",
    "\n",
    "    #return droneA ROI\n",
    "    BBa=return_bb_coordinates(anchor_A,height,width)\n",
    "    roi_A=fov_A[BBa[0]:BBa[1],BBa[2]:BBa[3]]\n",
    "    \n",
    "    #Use new sampled particles around transmitted anchor and find and draw the combo that gives\n",
    "    #the highest ssim\n",
    "    particles_high=np.zeros((n_particles_sampled,2))\n",
    "    particles_high[:,0]=anchor_B[0]+std_sampling*np.random.randn(n_particles_sampled)\n",
    "    particles_high[:,1]=anchor_B[1]+std_sampling*np.random.randn(n_particles_sampled)\n",
    "\n",
    "    anchor_ssim=max_min_ssim(particles_high,roi_A,fov_B,height,width)\n",
    "    anchor_max,ssim_max=list(anchor_ssim[0]),anchor_ssim[1]\n",
    "    \n",
    "    #Draw droneA and droneB ROI and FOV for one iteration\n",
    "    if i==1:\n",
    "        draw_A=draw_bb(fov_A.copy(),(BBa[2],BBa[0],width,height),anchor_A[0],anchor_A[1])\n",
    "        cv2.imwrite(handover+'_ff_white_BB_A3_'+str(n_particles_sampled)+'.jpg',draw_A)\n",
    "\n",
    "        BB_max=return_bb_coordinates(anchor_max,height,width)\n",
    "        draw_max=draw_bb(fov_B.copy(),(BB_max[2],BB_max[0],width,height),anchor_max[0],\\\n",
    "                         anchor_max[1])\n",
    "        cv2.imwrite(handover+'_ff_white_BB_B3_'+str(n_particles_sampled)+'.jpg',draw_max)\n",
    "    \n",
    "    ssim_new_particles_l.append(ssim_max)\n",
    "        "
   ]
  },
  {
   "cell_type": "code",
   "execution_count": null,
   "metadata": {},
   "outputs": [],
   "source": [
    "prog_duration= time.time() - start_time\n",
    "prog_duration"
   ]
  },
  {
   "cell_type": "code",
   "execution_count": null,
   "metadata": {},
   "outputs": [],
   "source": [
    "prog_duration/N"
   ]
  },
  {
   "cell_type": "code",
   "execution_count": null,
   "metadata": {},
   "outputs": [],
   "source": [
    "prog_duration/60"
   ]
  },
  {
   "cell_type": "code",
   "execution_count": null,
   "metadata": {},
   "outputs": [],
   "source": [
    "prog_duration/(60*N)"
   ]
  },
  {
   "cell_type": "code",
   "execution_count": null,
   "metadata": {},
   "outputs": [],
   "source": [
    "stat.mean(ssim_new_particles_l),stat.stdev(ssim_new_particles_l),\\\n",
    "max(ssim_new_particles_l),min(ssim_new_particles_l)"
   ]
  },
  {
   "cell_type": "markdown",
   "metadata": {},
   "source": [
    "### New Particles = 6000 "
   ]
  },
  {
   "cell_type": "code",
   "execution_count": null,
   "metadata": {},
   "outputs": [],
   "source": [
    "n_particles_sampled=6000\n",
    "start_time = time.time()"
   ]
  },
  {
   "cell_type": "code",
   "execution_count": null,
   "metadata": {},
   "outputs": [],
   "source": [
    "#anchorA transmitted\n",
    "anchor_A=list(est)\n",
    "\n",
    "#List containnig the ssims for the second method\n",
    "ssim_new_particles_l=[]\n",
    "\n",
    "ssim_max=0\n",
    "\n",
    "for i in range(N):\n",
    "    \n",
    "    #Compute the noisy transmitted particles and use them to find and draw the combo\n",
    "    #that gives the highest ssim \n",
    "    anchor_B=[0,0]\n",
    "    noisy_particles=np.zeros((n_particles,2))\n",
    "    noisy_particles[:,0]=tx0+particles[:, 0]+std_fov*np.random.randn(n_particles)\n",
    "    noisy_particles[:,1]=ty0+particles[:, 1]+std_fov*np.random.randn(n_particles)\n",
    "\n",
    "    anchor_B[0] = np.average(noisy_particles[:,0], weights=weights, axis=0).astype(int)\n",
    "    anchor_B[1] = np.average(noisy_particles[:,1], weights=weights, axis=0).astype(int)\n",
    "    \n",
    "\n",
    "    #return droneA ROI\n",
    "    BBa=return_bb_coordinates(anchor_A,height,width)\n",
    "    roi_A=fov_A[BBa[0]:BBa[1],BBa[2]:BBa[3]]\n",
    "    \n",
    "    #Use new sampled particles around transmitted anchor and find and draw the combo that gives\n",
    "    #the highest ssim\n",
    "    particles_high=np.zeros((n_particles_sampled,2))\n",
    "    particles_high[:,0]=anchor_B[0]+std_sampling*np.random.randn(n_particles_sampled)\n",
    "    particles_high[:,1]=anchor_B[1]+std_sampling*np.random.randn(n_particles_sampled)\n",
    "\n",
    "    anchor_ssim=max_min_ssim(particles_high,roi_A,fov_B,height,width)\n",
    "    anchor_max,ssim_max=list(anchor_ssim[0]),anchor_ssim[1]\n",
    "    \n",
    "    #Draw droneA and droneB ROI and FOV for one iteration\n",
    "    if i==1:\n",
    "        draw_A=draw_bb(fov_A.copy(),(BBa[2],BBa[0],width,height),anchor_A[0],anchor_A[1])\n",
    "        cv2.imwrite(handover+'_ff_white_BB_A3_'+str(n_particles_sampled)+'.jpg',draw_A)\n",
    "\n",
    "        BB_max=return_bb_coordinates(anchor_max,height,width)\n",
    "        draw_max=draw_bb(fov_B.copy(),(BB_max[2],BB_max[0],width,height),anchor_max[0],\\\n",
    "                         anchor_max[1])\n",
    "        cv2.imwrite(handover+'_ff_white_BB_B3_'+str(n_particles_sampled)+'.jpg',draw_max)\n",
    "    \n",
    "    ssim_new_particles_l.append(ssim_max)\n",
    "        "
   ]
  },
  {
   "cell_type": "code",
   "execution_count": null,
   "metadata": {},
   "outputs": [],
   "source": [
    "prog_duration= time.time() - start_time\n",
    "prog_duration"
   ]
  },
  {
   "cell_type": "code",
   "execution_count": null,
   "metadata": {},
   "outputs": [],
   "source": [
    "prog_duration/N"
   ]
  },
  {
   "cell_type": "code",
   "execution_count": null,
   "metadata": {},
   "outputs": [],
   "source": [
    "prog_duration/60"
   ]
  },
  {
   "cell_type": "code",
   "execution_count": null,
   "metadata": {},
   "outputs": [],
   "source": [
    "prog_duration/(60*N)"
   ]
  },
  {
   "cell_type": "code",
   "execution_count": null,
   "metadata": {},
   "outputs": [],
   "source": [
    "stat.mean(ssim_new_particles_l),stat.stdev(ssim_new_particles_l),\\\n",
    "max(ssim_new_particles_l),min(ssim_new_particles_l)"
   ]
  },
  {
   "cell_type": "markdown",
   "metadata": {},
   "source": [
    "### New Particles = 8000 "
   ]
  },
  {
   "cell_type": "code",
   "execution_count": null,
   "metadata": {},
   "outputs": [],
   "source": [
    "n_particles_sampled=8000\n",
    "start_time = time.time()"
   ]
  },
  {
   "cell_type": "code",
   "execution_count": null,
   "metadata": {},
   "outputs": [],
   "source": [
    "#anchorA transmitted\n",
    "anchor_A=list(est)\n",
    "\n",
    "#List containnig the ssims for the second method\n",
    "ssim_new_particles_l=[]\n",
    "\n",
    "ssim_max=0\n",
    "\n",
    "for i in range(N):\n",
    "    \n",
    "    #Compute the noisy transmitted particles and use them to find and draw the combo\n",
    "    #that gives the highest ssim \n",
    "    anchor_B=[0,0]\n",
    "    noisy_particles=np.zeros((n_particles,2))\n",
    "    noisy_particles[:,0]=tx0+particles[:, 0]+std_fov*np.random.randn(n_particles)\n",
    "    noisy_particles[:,1]=ty0+particles[:, 1]+std_fov*np.random.randn(n_particles)\n",
    "\n",
    "    anchor_B[0] = np.average(noisy_particles[:,0], weights=weights, axis=0).astype(int)\n",
    "    anchor_B[1] = np.average(noisy_particles[:,1], weights=weights, axis=0).astype(int)\n",
    "    \n",
    "\n",
    "    #return droneA ROI\n",
    "    BBa=return_bb_coordinates(anchor_A,height,width)\n",
    "    roi_A=fov_A[BBa[0]:BBa[1],BBa[2]:BBa[3]]\n",
    "    \n",
    "    #Use new sampled particles around transmitted anchor and find and draw the combo that gives\n",
    "    #the highest ssim\n",
    "    particles_high=np.zeros((n_particles_sampled,2))\n",
    "    particles_high[:,0]=anchor_B[0]+std_sampling*np.random.randn(n_particles_sampled)\n",
    "    particles_high[:,1]=anchor_B[1]+std_sampling*np.random.randn(n_particles_sampled)\n",
    "\n",
    "    anchor_ssim=max_min_ssim(particles_high,roi_A,fov_B,height,width)\n",
    "    anchor_max,ssim_max=list(anchor_ssim[0]),anchor_ssim[1]\n",
    "    \n",
    "    #Draw droneA and droneB ROI and FOV for one iteration\n",
    "    if i==1:\n",
    "        draw_A=draw_bb(fov_A.copy(),(BBa[2],BBa[0],width,height),anchor_A[0],anchor_A[1])\n",
    "        cv2.imwrite(handover+'_ff_white_BB_A3_'+str(n_particles_sampled)+'.jpg',draw_A)\n",
    "\n",
    "        BB_max=return_bb_coordinates(anchor_max,height,width)\n",
    "        draw_max=draw_bb(fov_B.copy(),(BB_max[2],BB_max[0],width,height),anchor_max[0],\\\n",
    "                         anchor_max[1])\n",
    "        cv2.imwrite(handover+'_ff_white_BB_B3_'+str(n_particles_sampled)+'.jpg',draw_max)\n",
    "    \n",
    "    ssim_new_particles_l.append(ssim_max)\n",
    "        "
   ]
  },
  {
   "cell_type": "code",
   "execution_count": null,
   "metadata": {},
   "outputs": [],
   "source": [
    "prog_duration= time.time() - start_time\n",
    "prog_duration"
   ]
  },
  {
   "cell_type": "code",
   "execution_count": null,
   "metadata": {},
   "outputs": [],
   "source": [
    "prog_duration/N"
   ]
  },
  {
   "cell_type": "code",
   "execution_count": null,
   "metadata": {},
   "outputs": [],
   "source": [
    "prog_duration/60"
   ]
  },
  {
   "cell_type": "code",
   "execution_count": null,
   "metadata": {},
   "outputs": [],
   "source": [
    "prog_duration/(60*N)"
   ]
  },
  {
   "cell_type": "code",
   "execution_count": null,
   "metadata": {},
   "outputs": [],
   "source": [
    "stat.mean(ssim_new_particles_l),stat.stdev(ssim_new_particles_l),\\\n",
    "max(ssim_new_particles_l),min(ssim_new_particles_l)"
   ]
  },
  {
   "cell_type": "code",
   "execution_count": null,
   "metadata": {},
   "outputs": [],
   "source": []
  }
 ],
 "metadata": {
  "kernelspec": {
   "display_name": "Python 3",
   "language": "python",
   "name": "python3"
  },
  "language_info": {
   "codemirror_mode": {
    "name": "ipython",
    "version": 3
   },
   "file_extension": ".py",
   "mimetype": "text/x-python",
   "name": "python",
   "nbconvert_exporter": "python",
   "pygments_lexer": "ipython3",
   "version": "3.6.9"
  }
 },
 "nbformat": 4,
 "nbformat_minor": 2
}
