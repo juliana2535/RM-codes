{
 "cells": [
  {
   "cell_type": "code",
   "execution_count": null,
   "metadata": {},
   "outputs": [],
   "source": [
    "import sys\n",
    "import cv2\n",
    "import numpy as np\n",
    "import time"
   ]
  },
  {
   "cell_type": "code",
   "execution_count": null,
   "metadata": {},
   "outputs": [],
   "source": [
    "#tracker = \"BOOSTING\"\n",
    "tracker = \"KCF\"\n",
    "#tracker = \"CSRT\"\n",
    "# tracker = \"MOSSE\"\n",
    "# tracker = \"TLD\"\n",
    "#tracker = \"MIL\"\n",
    "# tracker = \"MEDIANFLOW\"\n",
    "# tracker = \"GOTURN\""
   ]
  },
  {
   "cell_type": "code",
   "execution_count": null,
   "metadata": {},
   "outputs": [],
   "source": [
    "\"\"\"Some variables initialization \"\"\"\n",
    "#Number of trials\n",
    "Tot=1\n",
    "#Video frames dimensions\n",
    "frame_width=1920\n",
    "frame_height=1080\n",
    "#List of list of BB\n",
    "BB_avg=[]   "
   ]
  },
  {
   "cell_type": "code",
   "execution_count": null,
   "metadata": {},
   "outputs": [],
   "source": [
    "#Data for video cows\n",
    "path=\"./Outputs/\"\n",
    "videoOut_name = path+\"data_baseline_\"+tracker+\".avi\"\n",
    "videoIn_name = \"./Inputs/cows.avi\"\n",
    "# Define an initial bounding box\n",
    "BBS = (1120, 290, 260, 120)"
   ]
  },
  {
   "cell_type": "code",
   "execution_count": null,
   "metadata": {},
   "outputs": [],
   "source": [
    "start_time = time.time()  \n",
    "for num in range(Tot):\n",
    "    #List to contain bounding box    \n",
    "    BB_l=[]\n",
    "    #Frame iteration\n",
    "    it=0\n",
    "    #Capture video where object tracking should be performed\n",
    "    video = cv2.VideoCapture(videoIn_name)\n",
    "    #Video output\n",
    "    fourcc = cv2.VideoWriter_fourcc(*'XVID')\n",
    "    video_output = cv2.VideoWriter(videoOut_name,fourcc,60,(frame_width,frame_height))\n",
    "    #BB initialization\n",
    "    BB=BBS\n",
    "    \n",
    "    if tracker == \"BOOSTING\":\n",
    "        track = cv2.TrackerBoosting_create()\n",
    "    elif tracker == \"KCF\":\n",
    "        track = cv2.TrackerKCF_create()\n",
    "    elif tracker == \"MIL\":\n",
    "        track = cv2.TrackerMIL_create()\n",
    "    elif tracker == \"MOSSE\":\n",
    "        track = cv2.TrackerMOSSE_create()\n",
    "    elif tracker == \"TLD\":\n",
    "        track = cv2.TrackerTLD_create()\n",
    "    elif tracker == \"CSRT\":\n",
    "        track = cv2.TrackerCSRT_create()\n",
    "    elif tracker == \"MEDIANFLOW\":\n",
    "        track = cv2.TrackerMedianFlow_create()\n",
    "    else :\n",
    "        track = cv2.TrackerGOTURN_create()\n",
    "\n",
    "    # Iterate through videos frames\n",
    "    while True:\n",
    "        # Read a new frame\n",
    "        cont, frame = video.read()\n",
    "        if not cont:\n",
    "            break\n",
    "\n",
    "        it+=1    \n",
    "        # Initialize tracker with the first frame and bounding box\n",
    "        if it ==1 and cont==True:\n",
    "            cont = track.init(frame, BB)\n",
    "            \n",
    "        # Update the tracker\n",
    "        cont, BB = track.update(frame)\n",
    "        #Append new bounding box\n",
    "        BB_l.append(BB)\n",
    "\n",
    "        # Draw bounding box\n",
    "        if cont:\n",
    "            # In case track succeeds\n",
    "            pt1 = (int(BB[0]), int(BB[1]))\n",
    "            pt2 = (int(BB[0] + BB[2]), int(BB[1] + BB[3]))\n",
    "            cv2.rectangle(frame, pt1, pt2, (255,0,0), 2, 1)\n",
    "            # Show the type of the tracker\n",
    "            cv2.putText(frame, \"Tracker \"+ tracker+ \" Success \" , (10,70), \\\n",
    "                    cv2.FONT_HERSHEY_SIMPLEX, 1.0, (255,255,255),2);\n",
    "\n",
    "        else :\n",
    "            # In the opposite case\n",
    "            cv2.putText(frame, \"Tracker \"+ tracker+ \" Failure\", (10,70),\n",
    "                        cv2.FONT_HERSHEY_SIMPLEX, 1.0,(0,0,255),2)\n",
    "\n",
    "\n",
    "        if (num==Tot-1):\n",
    "            video_output.write(frame)\n",
    "\n",
    "        #if it==50:\n",
    "        #    break\n",
    "        \n",
    "    BB_avg.append(BB_l)"
   ]
  },
  {
   "cell_type": "code",
   "execution_count": null,
   "metadata": {},
   "outputs": [],
   "source": [
    "prog_duration= time.time() - start_time\n",
    "prog_duration"
   ]
  },
  {
   "cell_type": "code",
   "execution_count": null,
   "metadata": {},
   "outputs": [],
   "source": [
    "prog_duration/60"
   ]
  },
  {
   "cell_type": "code",
   "execution_count": null,
   "metadata": {},
   "outputs": [],
   "source": [
    "prog_duration/(60*Tot)"
   ]
  },
  {
   "cell_type": "code",
   "execution_count": null,
   "metadata": {},
   "outputs": [],
   "source": [
    "len(BB_l),len(BB_avg)"
   ]
  },
  {
   "cell_type": "code",
   "execution_count": null,
   "metadata": {},
   "outputs": [],
   "source": [
    "BB_l_avg=[] \n",
    "BB_avg=np.array(BB_avg)\n",
    "BB_l_avg=np.sum(BB_avg,0)/Tot\n",
    "BB_l_avg"
   ]
  },
  {
   "cell_type": "code",
   "execution_count": null,
   "metadata": {},
   "outputs": [],
   "source": [
    "#BB_l"
   ]
  },
  {
   "cell_type": "code",
   "execution_count": null,
   "metadata": {},
   "outputs": [],
   "source": [
    "np.save(path+\"BB_data_\"+tracker+\".npy\",np.array(BB_l_avg))"
   ]
  },
  {
   "cell_type": "code",
   "execution_count": null,
   "metadata": {},
   "outputs": [],
   "source": []
  }
 ],
 "metadata": {
  "kernelspec": {
   "display_name": "Python 3",
   "language": "python",
   "name": "python3"
  },
  "language_info": {
   "codemirror_mode": {
    "name": "ipython",
    "version": 3
   },
   "file_extension": ".py",
   "mimetype": "text/x-python",
   "name": "python",
   "nbconvert_exporter": "python",
   "pygments_lexer": "ipython3",
   "version": "3.6.9"
  }
 },
 "nbformat": 4,
 "nbformat_minor": 2
}
